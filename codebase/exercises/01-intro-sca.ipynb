{
 "cells": [
  {
   "cell_type": "markdown",
   "metadata": {},
   "source": [
    "# Notebook 01 - Intro to the power side-channel\n",
    "<i>This material has been designed by Azade Rezaeeade and Lizzy Grootjen. Distribution without permission is not permitted.</i>\n",
    "\n",
    "In this notebook, we are going to load in our first dataset and plot a power trace. Some auxiliary functions have already been made for you to use. \n",
    "Load in the python imports and run the two cells below to load in the auxiliary functions."
   ]
  },
  {
   "cell_type": "code",
   "execution_count": 3,
   "metadata": {},
   "outputs": [],
   "source": [
    "# Python imports\n",
    "\n",
    "import numpy as np\n",
    "import matplotlib.pyplot as plt\n",
    "%matplotlib inline"
   ]
  },
  {
   "cell_type": "code",
   "execution_count": 4,
   "metadata": {},
   "outputs": [],
   "source": [
    "# Auxiliary functions\n",
    "\n",
    "# Load in the dataset using numpy\n",
    "def load_dataset(path):\n",
    "    dataset = np.load(path)\n",
    "    traces = dataset[\"trace\"]\n",
    "    textin = dataset[\"textin\"]\n",
    "    return traces, textin\n",
    "\n",
    "# Plot the power traces using matplotlib\n",
    "def plot_power_trace(traces, x_label, y_label, title):\n",
    "    average_trace = np.mean(traces, axis=0)\n",
    "    plt.figure(figsize=(15, 5))\n",
    "    plt.plot(average_trace)\n",
    "    plt.title(title)\n",
    "    plt.xlabel(x_label)\n",
    "    plt.ylabel(y_label)\n",
    "    plt.show()"
   ]
  },
  {
   "cell_type": "markdown",
   "metadata": {},
   "source": [
    "## Exercise 1:\n",
    "We've collected the power traces for you! They are located in the folder \"datasets\". Load in the first dataset belonging to this notebook using the function provided above. Then, use the [shape](https://numpy.org/doc/2.1/reference/generated/numpy.shape.html) function to print the **dimensions of the dataset containing the power traces**. Finally, extract the first power trace from the dataset using [python indexing](https://numpy.org/devdocs/user/basics.indexing.html).\n",
    "\n",
    "To do: \n",
    "-  Fill in the blanks (...).\n",
    "-  Take a look at the dimensions of our power traces. What would represent the x-axis? And what about the y-axis?"
   ]
  },
  {
   "cell_type": "code",
   "execution_count": null,
   "metadata": {},
   "outputs": [],
   "source": [
    "## Exercise\n",
    "path = \"../../datasets/dataset_nb01.npy\"\n",
    "\n",
    "traces, plaintexts = ...\n",
    "\n",
    "traces_shape = ...\n",
    "first_powertrace = ...\n",
    "\n",
    "print(\"Shape of dataset: \" + str(traces_shape))\n",
    "print(\"Data of the first power trace: \" + str(first_powertrace))\n"
   ]
  },
  {
   "cell_type": "markdown",
   "metadata": {},
   "source": [
    "## Exercise 2\n",
    "\n",
    "Looking at the numbers of these data does not really make any sense. Let's try to visualise our dataset! The function below calculates the average power trace from our dataset. Use this function to plot the power traces. Next, add sensible labels to the axis.\n",
    "\n",
    "To do:\n",
    "- Plot the power traces\n",
    "- Fill in the labels on the axis (hint: look at the shape of the dataset)\n",
    "- After you visualised your power trace, is there something that catches your attention?"
   ]
  },
  {
   "cell_type": "code",
   "execution_count": null,
   "metadata": {},
   "outputs": [],
   "source": [
    "## Exercise:\n",
    "title = \"Fill your title here\"\n",
    "x_label = \"Fill your label here\"\n",
    "y_label = \"Fill your label here\"\n",
    "\n",
    "plot_power_trace(..., ..., ..., ...)"
   ]
  },
  {
   "cell_type": "markdown",
   "metadata": {},
   "source": [
    "# Done!\n",
    "\n",
    "You've reached the end of this notebook. By now, you should have a rough idea what power analysis data looks like. Can we maybe use this data to get secret information? You'll see in the next notebook!"
   ]
  }
 ],
 "metadata": {
  "kernelspec": {
   "display_name": ".venv",
   "language": "python",
   "name": "python3"
  },
  "language_info": {
   "codemirror_mode": {
    "name": "ipython",
    "version": 3
   },
   "file_extension": ".py",
   "mimetype": "text/x-python",
   "name": "python",
   "nbconvert_exporter": "python",
   "pygments_lexer": "ipython3",
   "version": "3.12.5"
  }
 },
 "nbformat": 4,
 "nbformat_minor": 2
}
