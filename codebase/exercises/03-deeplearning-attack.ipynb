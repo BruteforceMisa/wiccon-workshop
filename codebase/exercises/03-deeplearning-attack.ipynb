{
 "cells": [
  {
   "cell_type": "markdown",
   "metadata": {},
   "source": [
    "# Notebook 03 - Perform a deep-learning attack"
   ]
  },
  {
   "cell_type": "markdown",
   "metadata": {},
   "source": [
    "<i>This material has been designed by Azade Rezaeeade and Lizzy Grootjen. Distribution without permission is not permitted.</i>\n",
    "\n",
    "You've already done a statistical attack, but can we use artificial intelligence to perform the task for us? AI is known for recognising patterns in large amounts of data. Let's find out!\n",
    "First, load in the python imports, auxiliary arrays and auxiliary functions."
   ]
  },
  {
   "cell_type": "code",
   "execution_count": 23,
   "metadata": {},
   "outputs": [],
   "source": [
    "# Python imports\n",
    "\n",
    "import tensorflow as tf\n",
    "import numpy as np\n",
    "from tensorflow.keras.models import load_model"
   ]
  },
  {
   "cell_type": "code",
   "execution_count": 12,
   "metadata": {},
   "outputs": [],
   "source": [
    "# Auxiliary arrays\n",
    "\n",
    "sbox = np.array([99, 124, 119, 123, 242, 107, 111, 197, 48,  1,   103, 43,  254, 215, 171, 118, \n",
    "                202, 130, 201, 125, 250, 89,  71,  240, 173, 212, 162, 175, 156, 164, 114, 192, \n",
    "                183, 253, 147, 38,  54,  63,  247, 204, 52,  165, 229, 241, 113, 216, 49,  21, \n",
    "                4,   199, 35,  195, 24,  150, 5,   154, 7,   18,  128, 226, 235, 39,  178, 117, \n",
    "                9,   131, 44,  26,  27,  110, 90,  160, 82,  59,  214, 179, 41,  227, 47,  132, \n",
    "                83,  209, 0,   237, 32,  252, 177, 91,  106, 203, 190, 57,  74,  76,  88,  207,\n",
    "                208, 239, 170, 251, 67,  77,  51,  133, 69,  249, 2,   127, 80,  60,  159, 168, \n",
    "                81,  163, 64,  143, 146, 157, 56,  245, 188, 182, 218, 33,  16,  255, 243, 210, \n",
    "                205, 12,  19,  236, 95,  151, 68,  23,  196, 167, 126, 61,  100, 93,  25,  115, \n",
    "                96,  129, 79,  220, 34,  42,  144, 136, 70,  238, 184, 20,  22,  94,  11,  219, \n",
    "                224, 50,  58,  10,  73,  6,   36,  92,  194, 211, 172, 98,  145, 149, 228, 121, \n",
    "                231, 200, 55,  109, 141, 213, 78,  169, 108, 86,  244, 234, 101, 122, 174, 8, \n",
    "                186, 120, 37,  46,  28,  166, 180, 198, 232, 221, 116, 31,  75,  189, 139, 138, \n",
    "                112, 62,  181, 102, 72,  3,   246, 14,  97,  53,  87,  185, 134, 193, 29,  158, \n",
    "                225, 248, 152, 17,  105, 217, 142, 148, 155, 30,  135, 233, 206, 85,  40,  223, \n",
    "                140, 161, 137, 13,  191, 230, 66,  104, 65,  153, 45,  15,  176, 84,  187, 22]) \n"
   ]
  },
  {
   "cell_type": "code",
   "execution_count": null,
   "metadata": {},
   "outputs": [],
   "source": [
    "# Auxiliary functions\n",
    "\n",
    "# Load in the dataset using numpy\n",
    "def load_dataset(path):\n",
    "    dataset = np.load(path)\n",
    "    traces = dataset[\"trace\"]\n",
    "    textin = dataset[\"textin\"]\n",
    "    return traces, textin\n",
    "\n",
    "# Decode the bytes to text using ASCII\n",
    "def decode_bytes_to_text(predicted_key):\n",
    "    password = \"\"\n",
    "    for elem in predicted_key:\n",
    "        elem_char = chr(elem)\n",
    "        password = password + elem_char\n",
    "    return password"
   ]
  },
  {
   "cell_type": "markdown",
   "metadata": {},
   "source": [
    "## Exercise 1: Load in the dataset\n",
    "By now, you probably aren't surprised that you have to load in your dataset :-)\n",
    "\n",
    "You get a new set of traces with an unknown password. Let's crack it using AI!\n",
    "\n",
    "To do:\n",
    "- Fill in the blank with loading in the traces and plaintexts\n",
    "- How many traces do you have? And how many samples? "
   ]
  },
  {
   "cell_type": "code",
   "execution_count": null,
   "metadata": {},
   "outputs": [],
   "source": [
    "## Exercise\n",
    "path = \"../../datasets/dataset_nb03.npy\"\n",
    "\n",
    "traces, plaintexts = ...\n",
    "\n",
    "traces_shape = ...\n",
    "\n",
    "num_traces = ...\n",
    "num_samples = ...\n",
    "\n",
    "print(\"Shape of dataset: \" + str(traces_shape))\n",
    "print(\"Number of traces: \" + str(num_traces))\n",
    "print(\"Number of samples: \" + str(num_samples))"
   ]
  },
  {
   "cell_type": "markdown",
   "metadata": {},
   "source": [
    "## Exercise 2: recover one byte using AI"
   ]
  },
  {
   "cell_type": "markdown",
   "metadata": {},
   "source": [
    "We already did the AI (deep neural network models) training for you! In order to crack the whole password (16 bytes), we have a prediction model for each byte. \n",
    "The deep neural network models are located in \"pretrained-models/models\". To get back the predicted keybyte from the deep neural network, we have provided you with an auxiliary function to use. \n",
    "\n",
    "Let's try to crack the first byte. We trained our models using tensorflow. Import the first model and try to predict the first passwordbyte with the provided dataset.\n",
    "\n",
    "To do:\n",
    "- Import the first model using [tf.keras.model.load()](https://www.tensorflow.org/api_docs/python/tf/keras/models/load_model). \n",
    "- Predict the passwordbyte using [model.predict()](https://www.tensorflow.org/api_docs/python/tf/keras/Model#predict). \n",
    "- Use the auxiliary function retreive_key() to get the passwordbyte from the predictions."
   ]
  },
  {
   "cell_type": "code",
   "execution_count": null,
   "metadata": {},
   "outputs": [],
   "source": [
    "# This function saves you the hassle of going back from intermediate values to the password.\n",
    "# It takes the predictions, plaintexts and the byte you want to attack and returns the predicted passwordbyte.\n",
    "def retrieve_key(predictions, plaintexts, target_byte):\n",
    "    key_bytes_proba = np.zeros(256)\n",
    "    plaintext = plaintexts[:,target_byte]\n",
    "\n",
    "    for i in range(0, 256): # for every password candidate, check if its matching sbox value has the highest probability\n",
    "        sbox_proba = predictions[:,sbox[plaintext^i]]\n",
    "        proba_summed = np.sum(sbox_proba) # sum all probabilities for each timesample\n",
    "        key_bytes_proba[i] += np.log(proba_summed)\n",
    "\n",
    "    return np.argmax(key_bytes_proba)"
   ]
  },
  {
   "cell_type": "code",
   "execution_count": null,
   "metadata": {},
   "outputs": [],
   "source": [
    "## Exercise\n",
    "attack_byte = ...\n",
    "path_to_first_model = \"../../pretrained-models/models/model_byte_{}.keras\".format(attack_byte)\n",
    "\n",
    "model_firstbyte = ...\n",
    "\n",
    "predictions = ...\n",
    "\n",
    "predicted_keybyte = ...\n",
    "\n",
    "print(\"The predicted key value for byte {} is:  {}\".format(attack_byte, predicted_keybyte))\n",
    "print(\"This belongs to the character: {}\".format(decode_bytes_to_text([predicted_keybyte])))"
   ]
  },
  {
   "cell_type": "markdown",
   "metadata": {},
   "source": [
    "## Exercise 3: Recover all bytes using AI"
   ]
  },
  {
   "cell_type": "markdown",
   "metadata": {},
   "source": [
    "If you can do it for one byte, then you can do it for all bytes! Recover the key with the corresponding AI-models. The easiest way is to loop over all pretrained models. We have created a small setup for you.\n",
    "\n",
    "To do:\n",
    "- Determine how many bytes we need to attack. What was the size of the key?\n",
    "- Fill in the blanks of the for-loop.\n",
    "- What message did you find?"
   ]
  },
  {
   "cell_type": "code",
   "execution_count": null,
   "metadata": {},
   "outputs": [],
   "source": [
    "## Exercise\n",
    "amount_of_bytes_to_attack = ...\n",
    "predicted_key = np.zeros(amount_of_bytes_to_attack)\n",
    "\n",
    "for byte in range(0, ...):\n",
    "    model_attackbyte = ...\n",
    "    predictions = ...\n",
    "    predicted_keybyte = ...\n",
    "    predicted_key[byte] = predicted_keybyte\n",
    "\n",
    "\n",
    "print(\"The predicted key is:  {}\".format(predicted_key))\n",
    "print(\"Translated to text: {}\".format(decode_bytes_to_text(predicted_key)))"
   ]
  },
  {
   "cell_type": "markdown",
   "metadata": {},
   "source": [
    "# Done!\n",
    "You've succesfully completed this notebook. Did you find the hidden message?\n",
    "\n",
    "This kind of attack is called a profiled deep-learning side-channel attack. In a profiled attack, we first create a profile of our target device. This target device is in full control of the attacker. The attacker can control the messages and keys. In this notebook, we have created the profile with the use of deep neural networks. They model the power consumption behaviour of the device, by teaching which power trace belongs to which key value. There are different ways to create such profiles, varying from different AI-techniques to more statistical approaches."
   ]
  },
  {
   "cell_type": "markdown",
   "metadata": {},
   "source": []
  }
 ],
 "metadata": {
  "kernelspec": {
   "display_name": ".venv",
   "language": "python",
   "name": "python3"
  },
  "language_info": {
   "codemirror_mode": {
    "name": "ipython",
    "version": 3
   },
   "file_extension": ".py",
   "mimetype": "text/x-python",
   "name": "python",
   "nbconvert_exporter": "python",
   "pygments_lexer": "ipython3",
   "version": "3.12.5"
  }
 },
 "nbformat": 4,
 "nbformat_minor": 2
}
