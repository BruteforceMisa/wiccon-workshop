{
 "cells": [
  {
   "cell_type": "markdown",
   "metadata": {},
   "source": [
    "# Notebook for trace collection"
   ]
  },
  {
   "cell_type": "code",
   "execution_count": 59,
   "metadata": {},
   "outputs": [],
   "source": [
    "import chipwhisperer as cw\n",
    "from tqdm import tnrange, trange\n",
    "import numpy as np\n",
    "import matplotlib.pylab as plt\n",
    "%matplotlib inline"
   ]
  },
  {
   "cell_type": "code",
   "execution_count": 69,
   "metadata": {},
   "outputs": [
    {
     "name": "stdout",
     "output_type": "stream",
     "text": [
      "cwlite Device\n",
      "sn         = 50203220343043543130343234323033\n",
      "fw_version = \n",
      "    major = 0\n",
      "    minor = 65\n",
      "    debug = 0\n",
      "gain = \n",
      "    mode = low\n",
      "    gain = 0\n",
      "    db   = 5.5\n",
      "adc = \n",
      "    state          = False\n",
      "    basic_mode     = low\n",
      "    timeout        = 2\n",
      "    offset         = 0\n",
      "    presamples     = 0\n",
      "    samples        = 24400\n",
      "    decimate       = 1\n",
      "    trig_count     = 14468044\n",
      "    fifo_fill_mode = normal\n",
      "clock = \n",
      "    adc_src       = clkgen_x1\n",
      "    adc_phase     = 0\n",
      "    adc_freq      = 0\n",
      "    adc_rate      = 0.0\n",
      "    adc_locked    = True\n",
      "    freq_ctr      = 0\n",
      "    freq_ctr_src  = extclk\n",
      "    clkgen_src    = system\n",
      "    extclk_freq   = 10000000\n",
      "    clkgen_mul    = 2\n",
      "    clkgen_div    = 1\n",
      "    clkgen_freq   = 192000000.0\n",
      "    clkgen_locked = True\n",
      "trigger = \n",
      "    triggers = tio4\n",
      "    module   = basic\n",
      "io = \n",
      "    tio1         = serial_tx\n",
      "    tio2         = serial_rx\n",
      "    tio3         = high_z\n",
      "    tio4         = high_z\n",
      "    pdid         = high_z\n",
      "    pdic         = high_z\n",
      "    nrst         = high_z\n",
      "    glitch_hp    = False\n",
      "    glitch_lp    = False\n",
      "    extclk_src   = hs1\n",
      "    hs2          = None\n",
      "    target_pwr   = True\n",
      "    tio_states   = (1, 1, 0, 0)\n",
      "    cdc_settings = bytearray(b'\\x01\\x00\\x00\\x00')\n",
      "glitch = \n",
      "    clk_src     = target\n",
      "    mmcm_locked = False\n",
      "    width       = 10.15625\n",
      "    width_fine  = 0\n",
      "    offset      = 10.15625\n",
      "    offset_fine = 0\n",
      "    trigger_src = manual\n",
      "    arm_timing  = after_scope\n",
      "    ext_offset  = 0\n",
      "    repeat      = 1\n",
      "    output      = clock_xor\n",
      "\n"
     ]
    }
   ],
   "source": [
    "scope = cw.scope()\n",
    "print(scope)\n"
   ]
  },
  {
   "cell_type": "code",
   "execution_count": 70,
   "metadata": {},
   "outputs": [
    {
     "name": "stdout",
     "output_type": "stream",
     "text": [
      "scope.gain.mode                          changed from low                       to high                     \n",
      "scope.gain.gain                          changed from 0                         to 30                       \n",
      "scope.gain.db                            changed from 5.5                       to 24.8359375               \n",
      "scope.adc.basic_mode                     changed from low                       to rising_edge              \n",
      "scope.adc.samples                        changed from 24400                     to 5000                     \n",
      "scope.adc.trig_count                     changed from 400175448                 to 477162263                \n",
      "scope.clock.adc_src                      changed from clkgen_x1                 to clkgen_x4                \n",
      "scope.clock.adc_freq                     changed from 0                         to 29538459                 \n",
      "scope.clock.adc_rate                     changed from 0.0                       to 29538459.0               \n",
      "scope.clock.adc_locked                   changed from False                     to True                     \n",
      "scope.clock.clkgen_div                   changed from 1                         to 26                       \n",
      "scope.clock.clkgen_freq                  changed from 192000000.0               to 7384615.384615385        \n",
      "scope.io.tio1                            changed from serial_tx                 to serial_rx                \n",
      "scope.io.tio2                            changed from serial_rx                 to serial_tx                \n",
      "scope.io.hs2                             changed from None                      to clkgen                   \n",
      "scope.io.cdc_settings                    changed from bytearray(b'\\x01\\x00\\x00\\x00') to bytearray(b'\\x00\\x00\\x00\\x00')\n",
      "Detected unknown STM32F ID: 0x446\n",
      "Extended erase (0x44), this can take ten seconds or more\n",
      "Attempting to program 6271 bytes at 0x8000000\n",
      "STM32F Programming flash...\n",
      "STM32F Reading flash...\n",
      "Verified flash OK, 6271 bytes\n"
     ]
    }
   ],
   "source": [
    "fw_path = \"../firmware/simpleserial-aes-CWLITEARM.hex\"\n",
    "prog = cw.programmers.STM32FProgrammer\n",
    "scope.default_setup()\n",
    "cw.program_target(scope, prog, fw_path)\n",
    "target_type = cw.targets.SimpleSerial\n",
    "target = cw.target(scope, target_type)"
   ]
  },
  {
   "cell_type": "markdown",
   "metadata": {},
   "source": [
    "# Collect for NB01"
   ]
  },
  {
   "cell_type": "code",
   "execution_count": 50,
   "metadata": {},
   "outputs": [
    {
     "name": "stderr",
     "output_type": "stream",
     "text": [
      "Capturing traces: 100%|██████████| 10/10 [00:01<00:00,  8.29it/s]"
     ]
    },
    {
     "name": "stdout",
     "output_type": "stream",
     "text": [
      "(10, 24000)\n",
      "[[109  12  79  59 127  92  27 179 145 150  90 229 109 170 178  88]\n",
      " [214  10  73 171  88  58  92 137 107  83 187   7  86 254 146 134]\n",
      " [ 44  61  50  25  28  20  65 151 183  58  39  67  20 246 127 143]\n",
      " [ 92 243 213  51 230 217  67 165 240 108 146 252 197 218   3 236]\n",
      " [ 84  74  73 203 228  15  52 191 135 234 196  98   9 150 118  81]\n",
      " [236 187 203 169 177  46 114  32  35 186 127 117  72  36 211  12]\n",
      " [214 158 226 207 142  45 127 114 219 110 242 113  96 133  34 118]\n",
      " [ 77 113 140  66  21 250 172  56  90 119  33  78 187 229 120 160]\n",
      " [174 192   0 131 201  92  11 245  54  82 252 167 222 188 164  60]\n",
      " [108  66 208  11 114 118  74 139 143  97 200 190 110  29  96  54]]\n"
     ]
    },
    {
     "name": "stderr",
     "output_type": "stream",
     "text": [
      "\n"
     ]
    }
   ],
   "source": [
    "nr_samples = 24000\n",
    "nr_traces = 10\n",
    "\n",
    "traces = []\n",
    "scope.adc.samples = nr_samples\n",
    "\n",
    "# Decide whether you want to create a key, text pair manually or the ``Basic'' class.\n",
    "# For manual creation of the key you can use the bytearray() function. Remember to keep the key the same and change the text in the loop.\n",
    "# For information about `Basic'' class look to https://chipwhisperer.readthedocs.io/en/latest/api.html#basic .\n",
    "\n",
    "# If you have chosen to use ``Basic'' class, define an instance here.\n",
    "# [ 43 126  21  22  40 174 210 166 171 247  21 136   9 207  79  60]\n",
    "ktp = cw.ktp.Basic()     \n",
    "ktp.fixed_key = True\n",
    "\n",
    "for i in trange(nr_traces, desc='Capturing traces'):\n",
    "    key, text = ktp.next()  # manual creation of a key, text pair can be substituted here\n",
    "    \n",
    "    trace = cw.capture_trace(scope, target, text, key)\n",
    "    if trace is None:\n",
    "        continue\n",
    "    traces.append(trace)\n",
    "    \n",
    "trace_array = np.asarray([trace.wave for trace in traces])\n",
    "textin_array = np.asarray([trace.textin for trace in traces])\n",
    "known_keys = np.asarray([trace.key for trace in traces])  \n",
    "\n",
    "filename = \"./dataset_nb01.npy\"\n",
    "\n",
    "with open(filename, 'wb') as f:\n",
    "    np.savez(f, trace=trace_array, textin=textin_array)\n",
    "\n",
    "\n",
    "## Sanity check\n",
    "print(trace_array.shape)\n",
    "print(textin_array)\n"
   ]
  },
  {
   "cell_type": "markdown",
   "metadata": {},
   "source": [
    "# Collect for NB02\n"
   ]
  },
  {
   "cell_type": "code",
   "execution_count": 51,
   "metadata": {},
   "outputs": [],
   "source": [
    "sbox = [0x63, 0x7c, 0x77, 0x7b, 0xf2, 0x6b, 0x6f, 0xc5, 0x30, 0x01, 0x67,\n",
    "            0x2b, 0xfe, 0xd7, 0xab, 0x76, 0xca, 0x82, 0xc9, 0x7d, 0xfa, 0x59,\n",
    "            0x47, 0xf0, 0xad, 0xd4, 0xa2, 0xaf, 0x9c, 0xa4, 0x72, 0xc0, 0xb7,\n",
    "            0xfd, 0x93, 0x26, 0x36, 0x3f, 0xf7, 0xcc, 0x34, 0xa5, 0xe5, 0xf1,\n",
    "            0x71, 0xd8, 0x31, 0x15, 0x04, 0xc7, 0x23, 0xc3, 0x18, 0x96, 0x05,\n",
    "            0x9a, 0x07, 0x12, 0x80, 0xe2, 0xeb, 0x27, 0xb2, 0x75, 0x09, 0x83,\n",
    "            0x2c, 0x1a, 0x1b, 0x6e, 0x5a, 0xa0, 0x52, 0x3b, 0xd6, 0xb3, 0x29,\n",
    "            0xe3, 0x2f, 0x84, 0x53, 0xd1, 0x00, 0xed, 0x20, 0xfc, 0xb1, 0x5b,\n",
    "            0x6a, 0xcb, 0xbe, 0x39, 0x4a, 0x4c, 0x58, 0xcf, 0xd0, 0xef, 0xaa,\n",
    "            0xfb, 0x43, 0x4d, 0x33, 0x85, 0x45, 0xf9, 0x02, 0x7f, 0x50, 0x3c,\n",
    "            0x9f, 0xa8, 0x51, 0xa3, 0x40, 0x8f, 0x92, 0x9d, 0x38, 0xf5, 0xbc,\n",
    "            0xb6, 0xda, 0x21, 0x10, 0xff, 0xf3, 0xd2, 0xcd, 0x0c, 0x13, 0xec,\n",
    "            0x5f, 0x97, 0x44, 0x17, 0xc4, 0xa7, 0x7e, 0x3d, 0x64, 0x5d, 0x19,\n",
    "            0x73, 0x60, 0x81, 0x4f, 0xdc, 0x22, 0x2a, 0x90, 0x88, 0x46, 0xee,\n",
    "            0xb8, 0x14, 0xde, 0x5e, 0x0b, 0xdb, 0xe0, 0x32, 0x3a, 0x0a, 0x49,\n",
    "            0x06, 0x24, 0x5c, 0xc2, 0xd3, 0xac, 0x62, 0x91, 0x95, 0xe4, 0x79,\n",
    "            0xe7, 0xc8, 0x37, 0x6d, 0x8d, 0xd5, 0x4e, 0xa9, 0x6c, 0x56, 0xf4,\n",
    "            0xea, 0x65, 0x7a, 0xae, 0x08, 0xba, 0x78, 0x25, 0x2e, 0x1c, 0xa6,\n",
    "            0xb4, 0xc6, 0xe8, 0xdd, 0x74, 0x1f, 0x4b, 0xbd, 0x8b, 0x8a, 0x70,\n",
    "            0x3e, 0xb5, 0x66, 0x48, 0x03, 0xf6, 0x0e, 0x61, 0x35, 0x57, 0xb9,\n",
    "            0x86, 0xc1, 0x1d, 0x9e, 0xe1, 0xf8, 0x98, 0x11, 0x69, 0xd9, 0x8e,\n",
    "            0x94, 0x9b, 0x1e, 0x87, 0xe9, 0xce, 0x55, 0x28, 0xdf, 0x8c, 0xa1,\n",
    "            0x89, 0x0d, 0xbf, 0xe6, 0x42, 0x68, 0x41, 0x99, 0x2d, 0x0f, 0xb0,\n",
    "            0x54, 0xbb, 0x16]\n"
   ]
  },
  {
   "cell_type": "code",
   "execution_count": 65,
   "metadata": {},
   "outputs": [],
   "source": [
    "def output_sbox(plaintext, key): #plaintext and key should be of the same length\n",
    "    idx = plaintext ^ key\n",
    "    return [sbox[i] for i in idx]\n",
    "\n",
    "def get_leakage(textin, keys, byte):\n",
    "    sbox_values = output_sbox(textin[:,byte], keys[:,byte])\n",
    "    return sbox_values"
   ]
  },
  {
   "cell_type": "code",
   "execution_count": 54,
   "metadata": {},
   "outputs": [
    {
     "name": "stderr",
     "output_type": "stream",
     "text": [
      "Capturing traces: 100%|██████████| 5000/5000 [08:04<00:00, 10.32it/s]\n"
     ]
    }
   ],
   "source": [
    "nr_samples = 6000\n",
    "nr_traces = 5000\n",
    "\n",
    "traces = []\n",
    "scope.adc.samples = nr_samples\n",
    "\n",
    "## ASCII for: Pumpkin & ginger\n",
    "key = [80, 117, 109, 112, 107, 105, 110, 32, 38, 32, 103, 105, 110, 103, 101, 114 ]\n",
    "\n",
    "ktp = cw.ktp.Basic()     \n",
    "\n",
    "for i in trange(nr_traces, desc='Capturing traces'):\n",
    "    _, text = ktp.next()  # manual creation of a key, text pair can be substituted here\n",
    "\n",
    "    key_bytes = bytearray(key)\n",
    "    \n",
    "    trace = cw.capture_trace(scope, target, text, key_bytes)\n",
    "    if trace is None:\n",
    "        continue\n",
    "    traces.append(trace)\n",
    "    \n",
    "trace_array = np.asarray([trace.wave for trace in traces])\n",
    "textin_array = np.asarray([trace.textin for trace in traces])\n",
    "\n",
    "\n",
    "filename = \"./dataset_nb02.npy\"\n",
    "\n",
    "with open(filename, 'wb') as f:\n",
    "    np.savez(f, trace=trace_array, textin=textin_array)\n",
    "\n"
   ]
  },
  {
   "cell_type": "markdown",
   "metadata": {},
   "source": [
    "# Code for collecting dataset NB03"
   ]
  },
  {
   "cell_type": "code",
   "execution_count": 71,
   "metadata": {},
   "outputs": [
    {
     "name": "stderr",
     "output_type": "stream",
     "text": [
      "Capturing traces: 100%|██████████| 10000/10000 [15:54<00:00, 10.47it/s]\n"
     ]
    }
   ],
   "source": [
    "nr_samples = 5000\n",
    "nr_traces = 10000\n",
    "\n",
    "traces = []\n",
    "scope.adc.samples = nr_samples\n",
    "\n",
    "## ASCII for: Happy Halloween!\n",
    "key = [72, 97, 112, 112, 121, 32, 72, 97, 108, 108, 111, 119, 101, 101, 110, 33] \n",
    "\n",
    "ktp = cw.ktp.Basic()     \n",
    "\n",
    "for i in trange(nr_traces, desc='Capturing traces'):\n",
    "    _, text = ktp.next()  # manual creation of a key, text pair can be substituted here\n",
    "\n",
    "    key_bytes = bytearray(key)\n",
    "    \n",
    "    trace = cw.capture_trace(scope, target, text, key_bytes)\n",
    "    if trace is None:\n",
    "        continue\n",
    "    traces.append(trace)\n",
    "    \n",
    "trace_array = np.asarray([trace.wave for trace in traces])\n",
    "textin_array = np.asarray([trace.textin for trace in traces])\n",
    "known_keys = np.asarray([trace.key for trace in traces])  \n"
   ]
  },
  {
   "cell_type": "code",
   "execution_count": 72,
   "metadata": {},
   "outputs": [
    {
     "name": "stdout",
     "output_type": "stream",
     "text": [
      "(10000, 5000)\n",
      "[[102 208 174 ...  71 234  73]\n",
      " [177   6 137 ... 187  14  52]\n",
      " [182  67 227 ...  98   1 196]\n",
      " ...\n",
      " [ 76 249  98 ... 116 117 223]\n",
      " [142  37  32 ... 157  33  32]\n",
      " [254  47 173 ... 178  88  80]]\n",
      "[[ 72  97 112 ... 101 110  33]\n",
      " [ 72  97 112 ... 101 110  33]\n",
      " [ 72  97 112 ... 101 110  33]\n",
      " ...\n",
      " [ 72  97 112 ... 101 110  33]\n",
      " [ 72  97 112 ... 101 110  33]\n",
      " [ 72  97 112 ... 101 110  33]]\n",
      "[[ 49. 200.  29. ... 147.  95.  69.]\n",
      " [153. 133. 153. ...  29. 208.  89.]\n",
      " [187. 147. 220. ... 197. 168. 217.]\n",
      " ...\n",
      " [242.  70. 201. ... 130. 175. 187.]\n",
      " [180.  27.  83. ...  65. 132. 124.]\n",
      " [ 78.  47. 193. ...  14.   5. 163.]]\n"
     ]
    }
   ],
   "source": [
    "\n",
    "filename = \"../pretrained-models/dataset_dl.npy\"\n",
    "\n",
    "sensitive_data = np.zeros((nr_traces, 16)) # sbox values for every key+plaintext combo\n",
    "\n",
    "for i in range(0, 16): ## Calculate for every byte\n",
    "    values = get_leakage(textin_array, known_keys, i)\n",
    "    sensitive_data[:,i] = values\n",
    "\n",
    "POI_begin = 1300 ## Based on experience. This is exactly the window of the first Sbox operation\n",
    "POI_end = 2000\n",
    "\n",
    "train_size = 9900\n",
    "test_size = 100\n",
    "\n",
    "with open(filename, 'wb') as f:\n",
    "    np.savez(f, trace=trace_array[:train_size, POI_begin:POI_end], textin=textin_array[:train_size], keys=known_keys[:train_size], sensitive_data=sensitive_data[:train_size])\n",
    "\n",
    "filename = \"./dataset_nb03.npy\"\n",
    "\n",
    "with open(filename, 'wb') as f:\n",
    "    np.savez(f, trace=trace_array[train_size:, POI_begin:POI_end], textin=textin_array[train_size:])\n",
    "## Sanity check\n",
    "\n",
    "print(trace_array.shape)\n",
    "print(textin_array)\n",
    "print(known_keys)\n",
    "print(sensitive_data)\n"
   ]
  },
  {
   "cell_type": "code",
   "execution_count": null,
   "metadata": {},
   "outputs": [],
   "source": []
  },
  {
   "cell_type": "code",
   "execution_count": null,
   "metadata": {},
   "outputs": [],
   "source": []
  }
 ],
 "metadata": {
  "kernelspec": {
   "display_name": ".venv",
   "language": "python",
   "name": "python3"
  },
  "language_info": {
   "codemirror_mode": {
    "name": "ipython",
    "version": 3
   },
   "file_extension": ".py",
   "mimetype": "text/x-python",
   "name": "python",
   "nbconvert_exporter": "python",
   "pygments_lexer": "ipython3",
   "version": "3.12.5"
  }
 },
 "nbformat": 4,
 "nbformat_minor": 2
}
